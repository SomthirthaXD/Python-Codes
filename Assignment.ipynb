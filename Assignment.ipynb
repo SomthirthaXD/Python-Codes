{
 "cells": [
  {
   "cell_type": "code",
   "execution_count": 1,
   "id": "eafd19d2",
   "metadata": {},
   "outputs": [
    {
     "name": "stdout",
     "output_type": "stream",
     "text": [
      "Enter a number14\n",
      "Enter another number6\n",
      "Addition result: 20\n",
      "Subtraction result: 8\n",
      "Multiplication result: 84\n",
      "Division result: 2.3333333333333335\n",
      "Floor division result: 2\n"
     ]
    }
   ],
   "source": [
    "#WAP to take 2 integers as input and perform all arithmatic functions on them.\n",
    "a=int(input(\"Enter a number\")) #First number taken as input.\n",
    "b=int(input(\"Enter another number\")) #Second number taken as input.\n",
    "print(\"Addition result:\",(a+b))\n",
    "print(\"Subtraction result:\",(a-b))\n",
    "print(\"Multiplication result:\",(a*b))\n",
    "print(\"Division result:\",(a/b))\n",
    "print(\"Floor division result:\",(a//b))"
   ]
  },
  {
   "cell_type": "code",
   "execution_count": null,
   "id": "4c118259",
   "metadata": {},
   "outputs": [],
   "source": []
  }
 ],
 "metadata": {
  "kernelspec": {
   "display_name": "Python 3 (ipykernel)",
   "language": "python",
   "name": "python3"
  },
  "language_info": {
   "codemirror_mode": {
    "name": "ipython",
    "version": 3
   },
   "file_extension": ".py",
   "mimetype": "text/x-python",
   "name": "python",
   "nbconvert_exporter": "python",
   "pygments_lexer": "ipython3",
   "version": "3.9.13"
  }
 },
 "nbformat": 4,
 "nbformat_minor": 5
}
