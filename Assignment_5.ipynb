{
 "cells": [
  {
   "cell_type": "code",
   "execution_count": 1,
   "id": "a1f3455a",
   "metadata": {},
   "outputs": [
    {
     "name": "stdout",
     "output_type": "stream",
     "text": [
      "Enter name of input file without extension!AFile\n",
      "Enter name of output file without extension!ANewFile\n",
      "File has been written!\n"
     ]
    }
   ],
   "source": [
    "'''Write a script that reads lines from a file, adds line numbers to them, and then stores the\n",
    "numbered lines into a new file. The name of the input file and also the new file will be read\n",
    "from the user. Each line in the output file should begin with the line number, followed by a\n",
    "colon and a space, followed by the line from the input file.'''\n",
    "fname=input(\"Enter name of input file without extension!\")\n",
    "fname+='.txt'\n",
    "fnameOp=input(\"Enter name of output file without extension!\")\n",
    "fnameOp+='.txt'\n",
    "fpOp=open(fnameOp,'w')\n",
    "with open (fname, 'r') as fp:\n",
    "    lineno=0\n",
    "    for line in fp:\n",
    "        lineno+=1\n",
    "        line=str(lineno)+': '+line.strip()+'\\n'\n",
    "        fpOp.write(line)\n",
    "fp.close()\n",
    "fpOp.close()\n",
    "print(\"File has been written!\")"
   ]
  },
  {
   "cell_type": "code",
   "execution_count": 2,
   "id": "1cbd0116",
   "metadata": {},
   "outputs": [
    {
     "name": "stdout",
     "output_type": "stream",
     "text": [
      "Enter name of input file without extension!AFile\n",
      "Longest word(s) is of length: 11\n",
      "Technology.\n"
     ]
    }
   ],
   "source": [
    "'''Write a script that identifies the longest word(s) in a file and output a message that\n",
    "includes the length of the longest word, along with all of the words of that length that\n",
    "occurred in the file.'''\n",
    "fname=input(\"Enter name of input file without extension!\")\n",
    "fname+='.txt'\n",
    "with open (fname, 'r') as fp:\n",
    "    content=fp.read().replace('\\n',' ')\n",
    "    l_words=content.split(' ')\n",
    "fp.close()\n",
    "l_words.sort(key=lambda x: len(x), reverse=True)\n",
    "print(\"Longest word(s) is of length:\",len(l_words[0]))\n",
    "index=0\n",
    "while(len(l_words[index])==len(l_words[0])):\n",
    "    print(l_words[index])\n",
    "    index+=1"
   ]
  },
  {
   "cell_type": "code",
   "execution_count": 15,
   "id": "2a5b3a47",
   "metadata": {
    "scrolled": true
   },
   "outputs": [
    {
     "name": "stdout",
     "output_type": "stream",
     "text": [
      "Enter name of input file without extension!APythonFile\n",
      "Enter name of output file without extension!ANewPythonFile\n",
      "File has been written!\n"
     ]
    }
   ],
   "source": [
    "'''Create a script that removes all of the comments from a Python source file and save the\n",
    "modified file with a new name.'''\n",
    "fname=input(\"Enter name of input file without extension!\")\n",
    "fname+='.py'\n",
    "fnameOp=input(\"Enter name of output file without extension!\")\n",
    "fnameOpF=fnameOp+\".py\"\n",
    "fnameOp+='temp.py'\n",
    "with open(fname, 'r') as fp:\n",
    "    content=fp.read()\n",
    "fp.close()\n",
    "content=content.replace(\"'''\",'`')\n",
    "content=content.replace('\"\"\"','`')\n",
    "flag=False\n",
    "newC=''\n",
    "for c in content:\n",
    "    if (c=='`' and flag==False):\n",
    "        flag=True\n",
    "    elif(c=='`' and flag==True):\n",
    "        flag=False\n",
    "    if(not flag):\n",
    "        newC+=c\n",
    "newC=newC.replace('`\\n','')\n",
    "open(fnameOp, 'w').write(newC)\n",
    "fpOpF=open(fnameOpF, 'w')\n",
    "with open(fnameOp, 'r') as fp:\n",
    "    for line in fp:\n",
    "        slc=line.rfind('#')\n",
    "        line=line[0:slc]+'\\n'\n",
    "        fpOpF.write(line)\n",
    "fp.close()\n",
    "fpOpF.close()\n",
    "print(\"File has been written!\")\n",
    "import os\n",
    "os.remove(fnameOp)"
   ]
  },
  {
   "cell_type": "code",
   "execution_count": 73,
   "id": "c5a79da2",
   "metadata": {},
   "outputs": [
    {
     "name": "stdout",
     "output_type": "stream",
     "text": [
      "Enter x co-ordinate for point!5\n",
      "Enter y co-ordinate for point!7\n",
      "x=5; y=7\n",
      "Enter 1 to move point to new co-ordinates!\n",
      "Enter 2 to move point to origin!\n",
      "Enter 3 to calculate  euclidean distance from another point!\n",
      "Enter any other number to stop!1\n",
      "Enter x co-ordinate for new point!7\n",
      "Enter y co-ordinate for new point!8\n",
      "New co-ordinates: x=7; y=8\n",
      "Enter 1 to move point to new co-ordinates!\n",
      "Enter 2 to move point to origin!\n",
      "Enter 3 to calculate  euclidean distance from another point!\n",
      "Enter any other number to stop!2\n",
      "New co-ordinates: x=0; y=0\n",
      "Enter 1 to move point to new co-ordinates!\n",
      "Enter 2 to move point to origin!\n",
      "Enter 3 to calculate  euclidean distance from another point!\n",
      "Enter any other number to stop!3\n",
      "Enter x co-ordinate for other point!4\n",
      "Enter y co-ordinate for other point!5\n",
      "Euclidean distance: 6.4031242374328485\n",
      "Enter 1 to move point to new co-ordinates!\n",
      "Enter 2 to move point to origin!\n",
      "Enter 3 to calculate  euclidean distance from another point!\n",
      "Enter any other number to stop!0\n",
      "Process exited! Thank You!\n"
     ]
    }
   ],
   "source": [
    "'''Create a class to represent a point in two-dimensional geometric coordinates. Initialize the\n",
    "position of a new point. In the initializer, the x and y coordinates can be specified. If they\n",
    "are not, the point defaults to the origin. Write methods to i) move the point to a new\n",
    "location in 2D space, ii) reset a point back to the geometric origin (0, 0), iii) calculate the\n",
    "Euclidean distance from a point to a second point passed as an argument. Instantiate\n",
    "objects of the point class and test the methods on the created objects.'''\n",
    "class Point:\n",
    "    def __init__(self, x=0, y=0):\n",
    "        self.x=x\n",
    "        self.y=y\n",
    "    def newLoc(self, ob):\n",
    "        self.x=ob.x\n",
    "        self.y=ob.y\n",
    "    def toOrigin(self):\n",
    "        self.x=0\n",
    "        self.y=0\n",
    "    def calcEuclidean(self, ob):\n",
    "        return (((ob.x-self.x)**2+(ob.y-self.y)**2)\n",
    "                **(0.5))\n",
    "    def __str__(self):\n",
    "        return f\"x={self.x}; y={self.y}\"\n",
    "x=int(input(\"Enter x co-ordinate for point!\"))\n",
    "y=int(input(\"Enter y co-ordinate for point!\"))\n",
    "ob=Point(x,y)\n",
    "print(ob)\n",
    "while True:\n",
    "    ch=int(input(\"Enter 1 to move point to new co-ordinates!\\nEnter 2 to move point to origin!\\nEnter 3 to calculate  euclidean distance from another point!\\nEnter any other number to stop!\"))\n",
    "    if(ch==1):\n",
    "        x=int(input(\"Enter x co-ordinate for new point!\"))\n",
    "        y=int(input(\"Enter y co-ordinate for new point!\"))\n",
    "        obnew=Point(x,y)\n",
    "        ob.newLoc(obnew)\n",
    "        print(\"New co-ordinates:\",ob)\n",
    "    elif(ch==2):\n",
    "        ob.toOrigin()\n",
    "        print(\"New co-ordinates:\",ob)\n",
    "    elif(ch==3):\n",
    "        x=int(input(\"Enter x co-ordinate for other point!\"))\n",
    "        y=int(input(\"Enter y co-ordinate for other point!\"))\n",
    "        ob2=Point(x,y)\n",
    "        print(\"Euclidean distance:\",ob.calcEuclidean(ob2))\n",
    "    else:\n",
    "        print(\"Process exited! Thank You!\")\n",
    "        break"
   ]
  },
  {
   "cell_type": "code",
   "execution_count": null,
   "id": "5392f743",
   "metadata": {},
   "outputs": [],
   "source": []
  }
 ],
 "metadata": {
  "kernelspec": {
   "display_name": "Python 3 (ipykernel)",
   "language": "python",
   "name": "python3"
  },
  "language_info": {
   "codemirror_mode": {
    "name": "ipython",
    "version": 3
   },
   "file_extension": ".py",
   "mimetype": "text/x-python",
   "name": "python",
   "nbconvert_exporter": "python",
   "pygments_lexer": "ipython3",
   "version": "3.9.13"
  }
 },
 "nbformat": 4,
 "nbformat_minor": 5
}
