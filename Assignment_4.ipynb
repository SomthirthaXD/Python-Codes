{
 "cells": [
  {
   "cell_type": "code",
   "execution_count": 2,
   "id": "7d7f8560",
   "metadata": {},
   "outputs": [
    {
     "name": "stdout",
     "output_type": "stream",
     "text": [
      "Name of student: Mr. ABC XYZ\n",
      "Degree pursuing: B.Sc Hons.\n",
      "Name of student: Somthirtha Bhowmik\n",
      "Degree pursuing: MCA\n"
     ]
    }
   ],
   "source": [
    "'''Write a function display_student() that accepts student name, and her/his degree and display\n",
    "both. If the degree is missing in the function call, assign default value ‘MCA’ to it.'''\n",
    "def display_student(name:str, degree='MCA'):\n",
    "    print(\"Name of student:\",name)\n",
    "    print(\"Degree pursuing:\",degree)\n",
    "display_student('Mr. ABC XYZ', 'B.Sc Hons.')\n",
    "display_student('Somthirtha Bhowmik')"
   ]
  },
  {
   "cell_type": "code",
   "execution_count": 7,
   "id": "829c8711",
   "metadata": {},
   "outputs": [
    {
     "name": "stdout",
     "output_type": "stream",
     "text": [
      "Enter a number!69\n",
      "Enter a text!Somthirtha Bhowmik\n",
      "69 Somthirtha Bhowmik\n",
      "Enter a number!56\n",
      "Enter a text!Human\n",
      "56!Human\n"
     ]
    }
   ],
   "source": [
    "'''Write a function attached() that takes three parameters, the first a required parameter that is a\n",
    "number, the second a required parameter that is a string, and the third an optional parameter\n",
    "whose default is “ ”. Returned value will be the first parameter, concatenated with the second,\n",
    "using the third.'''\n",
    "def attached(n:int, line:str, sep=\" \"):\n",
    "    return f\"{n}{sep}{line}\"\n",
    "print(attached(int(input(\"Enter a number!\")), input(\"Enter a text!\")))\n",
    "print(attached(int(input(\"Enter a number!\")), input(\"Enter a text!\"), \"!\"))"
   ]
  },
  {
   "cell_type": "code",
   "execution_count": 11,
   "id": "8f72f6bf",
   "metadata": {},
   "outputs": [
    {
     "name": "stdout",
     "output_type": "stream",
     "text": [
      "Enter a number!100\n",
      "Enter a number!20\n",
      "Enter True to change sign! (Optional).True\n",
      "Product: -2000\n"
     ]
    }
   ],
   "source": [
    "''''Define a function called nums() that has three parameters, the first, an integer, is required, the\n",
    "second parameter mult_int is optional with a default value of 10, the final parameter switch, is\n",
    "also optional with a default value of False. The function should multiply the two integers together,\n",
    "and if switch is True, should change the sign of the product before returning it.'''\n",
    "def num(num:int ,mult_int=10,switch=False):\n",
    "    if(switch):\n",
    "        return (-num*mult_int)\n",
    "    else:\n",
    "        return num*mult_int\n",
    "print(\"Product:\",num(int(input(\"Enter a number!\")),int(input(\"Enter a number!\")),bool(input(\"Enter True to change sign! (Optional).\"))))"
   ]
  },
  {
   "cell_type": "code",
   "execution_count": 16,
   "id": "fbaae94b",
   "metadata": {},
   "outputs": [
    {
     "name": "stdout",
     "output_type": "stream",
     "text": [
      "Enter a number!10\n",
      "Enter a number!15\n",
      "Sum of the numbers: 25\n",
      "Product of the numbers: 150\n"
     ]
    }
   ],
   "source": [
    "'''Write a function add_mult() that will accept two numbers and calculate the result of addition and\n",
    "multiplication of them and return both results in a single return statement.'''\n",
    "def add_mult(n1:int, n2:int):\n",
    "    return ((n1+n2), (n1*n2))\n",
    "l=add_mult(int(input(\"Enter a number!\")),int(input(\"Enter a number!\")))\n",
    "print(\"Sum of the numbers:\",l[0])\n",
    "print(\"Product of the numbers:\",l[1])"
   ]
  },
  {
   "cell_type": "code",
   "execution_count": 20,
   "id": "efb7216a",
   "metadata": {},
   "outputs": [
    {
     "name": "stdout",
     "output_type": "stream",
     "text": [
      "Enter the size of the input list!5\n",
      "Enter an element for the list!1\n",
      "Enter an element for the list!2\n",
      "Enter an element for the list!3\n",
      "Enter an element for the list!4\n",
      "Enter an element for the list!5\n",
      "(1, 2, 3, 4, 5)\n"
     ]
    }
   ],
   "source": [
    " '''Write a function to return a tuple containing all the numbers in a list passed as an argument.'''\n",
    "def ret_tup(lst:list):\n",
    "    return (tuple(lst))\n",
    "size=int(input(\"Enter the size of the input list!\"))\n",
    "l=[]\n",
    "for i in range(size):\n",
    "    l.append(int(input(\"Enter an element for the list!\")))\n",
    "print(ret_tup(l))"
   ]
  },
  {
   "cell_type": "code",
   "execution_count": 31,
   "id": "f4932c33",
   "metadata": {},
   "outputs": [
    {
     "name": "stdout",
     "output_type": "stream",
     "text": [
      "Enter a degree!23\n",
      "0.4014257279586958\n",
      "Value of sin x from math class function: 0.39073112848927377\n",
      "Enter terminating term for the infinite series!50\n",
      "Value of sin x from generated function: 0.39073112848927377\n",
      "Enter terminating term for the infinite series!50\n",
      "Difference between math.sin(x) value and sin(x) value: 0.0\n"
     ]
    }
   ],
   "source": [
    "'''sin(x) can be calculated approximately by summing the terms of the infinite series as follows\n",
    "\n",
    "sin(x) = x − x3\n",
    "3!\n",
    "+\n",
    "x5\n",
    "5!\n",
    "− x7\n",
    "7!\n",
    "...\n",
    "\n",
    "where x is expressed in radians. Write function(s) to calculate the value of sin x, accepting x as\n",
    "degree from user. Compare your results with that of math.sin().'''\n",
    "import math\n",
    "def sin(x:float):\n",
    "    n=int(input(\"Enter terminating term for the infinite series!\"))\n",
    "    sum=0.0\n",
    "    for i in range (1,n+1):\n",
    "        f=1\n",
    "        for j in range (2,2*i):\n",
    "            f*=j\n",
    "        sum+=(x**(2*i-1))/f*math.pow(-1, i-1)\n",
    "    return sum\n",
    "x=float(input(\"Enter a degree!\"))\n",
    "x=math.radians(x)\n",
    "print (x)\n",
    "print(\"Value of sin x from math class function:\",math.sin(x))\n",
    "print(\"Value of sin x from generated function:\",sin(x))\n",
    "print(\"Difference between math.sin(x) value and sin(x) value:\",(math.sin(x)-sin(x)))"
   ]
  },
  {
   "cell_type": "code",
   "execution_count": 33,
   "id": "2baf4d2b",
   "metadata": {},
   "outputs": [
    {
     "name": "stdout",
     "output_type": "stream",
     "text": [
      "Enter the size of the input list!5\n",
      "Enter an element for the list!1\n",
      "Enter an element for the list!1\n",
      "Enter an element for the list!2\n",
      "Enter an element for the list!3\n",
      "Enter an element for the list!4\n",
      "List without duplicates: [1, 2, 3, 4]\n"
     ]
    }
   ],
   "source": [
    "'''Write a function that accepts a list and returns a new list with unique elements of the first list.'''\n",
    "def unique(l:list):\n",
    "    return list(set(l))\n",
    "size=int(input(\"Enter the size of the input list!\"))\n",
    "l=[]\n",
    "for i in range(size):\n",
    "    l.append(int(input(\"Enter an element for the list!\")))\n",
    "print(\"List without duplicates:\",unique(l))"
   ]
  },
  {
   "cell_type": "code",
   "execution_count": 36,
   "id": "18b0a0c9",
   "metadata": {},
   "outputs": [
    {
     "name": "stdout",
     "output_type": "stream",
     "text": [
      "Enter a comma separated string!x,d,f,g,a,y,l\n",
      "Alphabetically sorted colon separated string: a-d-f-g-l-x-y\n"
     ]
    }
   ],
   "source": [
    "'''Write a function that accepts a comma separated string of words as input and returns a colon-\n",
    "separated string of words after sorting them alphabetically.'''\n",
    "def sorter(s:str):\n",
    "    s_list=s.split(\",\")\n",
    "    s_list.sort()\n",
    "    s=\"-\".join(s_list)\n",
    "    return s\n",
    "print(\"Alphabetically sorted colon separated string:\",sorter(input(\"Enter a comma separated string!\")))"
   ]
  },
  {
   "cell_type": "code",
   "execution_count": 22,
   "id": "fffe7dd2",
   "metadata": {},
   "outputs": [
    {
     "name": "stdout",
     "output_type": "stream",
     "text": [
      "Enter the size of the input list!5\n",
      "Enter an element for the list!abc\n",
      "Enter an element for the list!cba\n",
      "Enter an element for the list!bca\n",
      "Enter an element for the list!bab\n",
      "Enter an element for the list!acb\n",
      "List sorted in reverse order according to last characters:\n",
      " ['abc', 'bab', 'acb', 'cba', 'bca']\n"
     ]
    }
   ],
   "source": [
    "'''Write a function last_char() that takes a string as input, and returns only its last character. Use\n",
    "this function to sort list of strings by the last character of each string, from highest to lowest.\n",
    "Sample Input: ['150', '23', '781', '19', '3478', '12', '9005', '84', '9817', '96']\n",
    "Output: ['19', '3478', '9817', '96', '9005', '84', '23', '12', '781', '150']'''\n",
    "def last_char(s:str):\n",
    "    return s[len(s)-1]\n",
    "size=int(input(\"Enter the size of the input list!\"))\n",
    "l=[]\n",
    "for i in range(size):\n",
    "    l.append(input(\"Enter an element for the list!\"))\n",
    "l_sorted=sorted(l, key=last_char, reverse=True)\n",
    "print(\"List sorted in reverse order according to last characters:\\n\",l_sorted)"
   ]
  },
  {
   "cell_type": "code",
   "execution_count": 9,
   "id": "63c6b27c",
   "metadata": {},
   "outputs": [
    {
     "name": "stdout",
     "output_type": "stream",
     "text": [
      "Enter the size of the input list!5\n",
      "Enter an element for the list!abc\n",
      "Enter an element for the list!cba\n",
      "Enter an element for the list!bca\n",
      "Enter an element for the list!acb\n",
      "Enter an element for the list!bab\n",
      "List sorted in reverse order according to last characters:\n",
      " ['abc', 'acb', 'bab', 'cba', 'bca']\n"
     ]
    }
   ],
   "source": [
    "'''Redo 9 using lambda.'''\n",
    "def last_char(s:str):\n",
    "    return s[len(s)-1]\n",
    "size=int(input(\"Enter the size of the input list!\"))\n",
    "l=[]\n",
    "for i in range(size):\n",
    "    l.append(input(\"Enter an element for the list!\"))\n",
    "l_sorted=sorted(l, key=lambda x:last_char(x), reverse=True)\n",
    "print(\"List sorted in reverse order according to last characters:\\n\",l_sorted)"
   ]
  },
  {
   "cell_type": "code",
   "execution_count": 11,
   "id": "3d6c71ef",
   "metadata": {},
   "outputs": [
    {
     "name": "stdout",
     "output_type": "stream",
     "text": [
      "Enter the size of the input list!5\n",
      "Enter an element for the list!2\n",
      "Enter an element for the list!3\n",
      "Enter an element for the list!4\n",
      "Enter an element for the list!1\n",
      "Enter an element for the list!-5\n",
      "List sorted with lambda: [1, 2, 3, 4, -5]\n",
      "List sorted without lambda: [1, 2, 3, 4, -5]\n"
     ]
    }
   ],
   "source": [
    "'''Sort a list of numbers based on their absolute values, writing your own function for calculating\n",
    "absolute value of a number and (i) using it in sorted() without lambda, (ii) using it in sorted()\n",
    "with lambda.'''\n",
    "def absolute(x:int):\n",
    "    if(x<0):\n",
    "        x=-x\n",
    "    return x\n",
    "size=int(input(\"Enter the size of the input list!\"))\n",
    "l=[]\n",
    "for i in range(size):\n",
    "    l.append(int(input(\"Enter an element for the list!\")))\n",
    "l_lambda_sorted=sorted(l, key=lambda x:absolute(x))\n",
    "l_sorted=sorted(l, key=absolute)\n",
    "print(\"List sorted with lambda:\",l_lambda_sorted)\n",
    "print(\"List sorted without lambda:\",l_sorted)"
   ]
  },
  {
   "cell_type": "code",
   "execution_count": 16,
   "id": "b668d2c2",
   "metadata": {},
   "outputs": [
    {
     "name": "stdout",
     "output_type": "stream",
     "text": [
      "Enter the size of the input list!5\n",
      "Enter an element for the list!abc\n",
      "Enter an element for the list!cba\n",
      "Enter an element for the list!bca\n",
      "Enter an element for the list!abcd\n",
      "Enter an element for the list!cbda\n",
      "Sorted list: ['abc', 'bca', 'cba', 'abcd', 'cbda']\n"
     ]
    }
   ],
   "source": [
    "'''Sort a list of words first by their length, smallest to largest, and then alphabetically to break ties\n",
    "among words of the same length (using sorted() and lambda).'''\n",
    "size=int(input(\"Enter the size of the input list!\"))\n",
    "l=[]\n",
    "for i in range(size):\n",
    "    l.append(input(\"Enter an element for the list!\"))\n",
    "sorted_list=sorted(l)\n",
    "len_sorted=sorted(sorted_list,key=lambda x:len(x))\n",
    "print(\"Sorted list:\",len_sorted)"
   ]
  },
  {
   "cell_type": "code",
   "execution_count": 15,
   "id": "f8b9e7b8",
   "metadata": {},
   "outputs": [
    {
     "name": "stdout",
     "output_type": "stream",
     "text": [
      "Enter the size of the input list!5\n",
      "Enter an element for the list!abc\n",
      "Enter an element for the list!cba\n",
      "Enter an element for the list!bac\n",
      "Enter an element for the list!abcd\n",
      "Enter an element for the list!cbad\n",
      "Sorted list: ['cbad', 'abcd', 'cba', 'bac', 'abc']\n"
     ]
    }
   ],
   "source": [
    "'''Sort a list of words first by their length, largest to smallest, and then alphabetically to break ties\n",
    "among words of the same length (using sorted() and lambda).'''\n",
    "size=int(input(\"Enter the size of the input list!\"))\n",
    "l=[]\n",
    "for i in range(size):\n",
    "    l.append(input(\"Enter an element for the list!\"))\n",
    "sorted_list=sorted(l, reverse=True)\n",
    "len_sorted=sorted(sorted_list, key=len, reverse=True)\n",
    "print(\"Sorted list:\", len_sorted)"
   ]
  },
  {
   "cell_type": "code",
   "execution_count": 3,
   "id": "54367954",
   "metadata": {},
   "outputs": [
    {
     "name": "stdout",
     "output_type": "stream",
     "text": [
      "Enter name of state! Enter 0 to stop!Kerala\n",
      "Enter name of city in the state! Enter 0 to stop!Kannur\n",
      "Enter name of city in the state! Enter 0 to stop!Palakkad\n",
      "Enter name of city in the state! Enter 0 to stop!Thalassery\n",
      "Enter name of city in the state! Enter 0 to stop!0\n",
      "Enter name of state! Enter 0 to stop!Maharashtra\n",
      "Enter name of city in the state! Enter 0 to stop!Bhandara\n",
      "Enter name of city in the state! Enter 0 to stop!Nagpur\n",
      "Enter name of city in the state! Enter 0 to stop!Wardha\n",
      "Enter name of city in the state! Enter 0 to stop!0\n",
      "Enter name of state! Enter 0 to stop!West Bengal\n",
      "Enter name of city in the state! Enter 0 to stop!Asansol\n",
      "Enter name of city in the state! Enter 0 to stop!Basirhat\n",
      "Enter name of city in the state! Enter 0 to stop!Tamluk\n",
      "Enter name of city in the state! Enter 0 to stop!0\n",
      "Enter name of state! Enter 0 to stop!0\n",
      "['West Bengal', 'Maharashtra', 'Kerala']\n",
      "['Maharashtra', 'West Bengal', 'Kerala']\n",
      "['Maharashtra', 'Kerala', 'West Bengal']\n"
     ]
    }
   ],
   "source": [
    "'''Given a dictionary as stated in the sample input, use lambda to\n",
    "Sample Input: {\"Kerala\": [\"Kannur\", \"Palakkad\", \"Thalassery\"],\n",
    "\"Maharastra\": [\"Bhandara\", \"Nagpur\", \"Wardha\"],\n",
    "\"West Bengal\": [\"Asansol\", \"Basirhat\", \"Tamluk\"]}\n",
    "(i) sort the states in order by the first city name. (['West Bengal', 'Maharastra', 'Kerala'])\n",
    "(ii) sort the states by the length of the second city name, break ties of equal length by name of\n",
    "the second cities. (['Maharastra', 'West Bengal', 'Kerala'])\n",
    "(iii) sort the states in order by the number of cities having length greater than 6.\n",
    "(['Maharastra', 'Kerala', 'West Bengal'])'''\n",
    "d={}\n",
    "while True:\n",
    "    n=input(\"Enter name of state! Enter 0 to stop!\")\n",
    "    if(n=='0'):\n",
    "        break\n",
    "    l=[]\n",
    "    while True:\n",
    "        n1=input(\"Enter name of city in the state! Enter 0 to stop!\")\n",
    "        if(n1=='0'):\n",
    "            break\n",
    "        l.append(n1)\n",
    "    d[n]=l\n",
    "print(sorted(d, key=lambda x:d[x][0]))\n",
    "print(sorted(d, key=lambda x:(len(d[x][1]), d[x][1])))\n",
    "d1={}\n",
    "for k, v in d.items():\n",
    "    count=0\n",
    "    for i in v:\n",
    "      if len(i)>6:\n",
    "          count+=1\n",
    "    d1[k]=count\n",
    "print(sorted(d1, key=lambda x: d1[x]))"
   ]
  },
  {
   "cell_type": "code",
   "execution_count": 27,
   "id": "ad4de1fc",
   "metadata": {},
   "outputs": [
    {
     "name": "stdout",
     "output_type": "stream",
     "text": [
      "Enter a string!Hello I am very happy hehe.\n",
      "Five most frequent characters are:\n",
      " \n",
      "e\n",
      "h\n",
      "l\n",
      "a\n"
     ]
    }
   ],
   "source": [
    "'''Write a function that takes a string as a parameter and returns a list of the five most frequent\n",
    "characters in the string.'''\n",
    "def five_freq(s:str):\n",
    "    d={}\n",
    "    for x in s:\n",
    "        if x not in d.keys():\n",
    "            d[x]=1\n",
    "        else:\n",
    "            d[x]+=1\n",
    "    d_sorted=sorted(d.items(), key=lambda x:x[1], reverse=True)\n",
    "    return d_sorted\n",
    "l=five_freq(input(\"Enter a string!\"))\n",
    "print(\"Five most frequent characters are:\")\n",
    "c=0\n",
    "for x in l:\n",
    "    print(x[0])\n",
    "    c+=1\n",
    "    if c==5:\n",
    "        break"
   ]
  },
  {
   "cell_type": "code",
   "execution_count": 28,
   "id": "3dcd2025",
   "metadata": {},
   "outputs": [
    {
     "name": "stdout",
     "output_type": "stream",
     "text": [
      "Enter the size of the input list!5\n",
      "Enter an element for the list!2282003\n",
      "Enter an element for the list!2282059\n",
      "Enter an element for the list!2282015\n",
      "Enter an element for the list!2282190\n",
      "Enter an element for the list!2282043\n",
      "Sorted list: [2282003, 2282015, 2282043, 2282059, 2282190]\n"
     ]
    }
   ],
   "source": [
    "'''Use lambda to sort a list of roll numbers by the last three digits of the roll number.'''\n",
    "size=int(input(\"Enter the size of the input list!\"))\n",
    "l=[]\n",
    "for i in range(size):\n",
    "    l.append(int(input(\"Enter an element for the list!\")))\n",
    "l_sorted=sorted(l, key=lambda x:x%1000)\n",
    "print(\"Sorted list:\",l_sorted)"
   ]
  },
  {
   "cell_type": "code",
   "execution_count": 30,
   "id": "56b1fb40",
   "metadata": {},
   "outputs": [
    {
     "name": "stdout",
     "output_type": "stream",
     "text": [
      "Enter the size of the input list!5\n",
      "Enter an element for the list!Somthirtha Bhowmik\n",
      "Enter an element for the list!Rishav Chatterjee\n",
      "Enter an element for the list!Atrayee Das\n",
      "Enter an element for the list!Indrani Dutta Gupta\n",
      "Enter an element for the list!Shibraj Saha\n",
      "Sorted list: ['Somthirtha Bhowmik', 'Rishav Chatterjee', 'Atrayee Das', 'Indrani Dutta Gupta', 'Shibraj Saha']\n"
     ]
    }
   ],
   "source": [
    "'''Use lambda to sort a list of names alphabetically by last name.'''\n",
    "size=int(input(\"Enter the size of the input list!\"))\n",
    "l=[]\n",
    "for i in range(size):\n",
    "    l.append(input(\"Enter an element for the list!\"))\n",
    "l_sorted=sorted(l, key=lambda x:x[x.rfind(' '):])\n",
    "print(\"Sorted list:\",l_sorted)"
   ]
  },
  {
   "cell_type": "code",
   "execution_count": 45,
   "id": "a2c467da",
   "metadata": {},
   "outputs": [
    {
     "name": "stdout",
     "output_type": "stream",
     "text": [
      "Sum of list items: 22\n"
     ]
    }
   ],
   "source": [
    "'''Write a recursive function to get the list sum.'''\n",
    "def recSum(l:list, sum=0):\n",
    "    for x in l:\n",
    "        if(isinstance(x, list)):\n",
    "            sum=recSum(x, sum)\n",
    "        else:\n",
    "            sum+=x\n",
    "    return sum\n",
    "print(\"Sum of list items:\",recSum([1, 3, [3,4], [5,6]]))"
   ]
  },
  {
   "cell_type": "code",
   "execution_count": 1,
   "id": "faff6fb5",
   "metadata": {},
   "outputs": [
    {
     "name": "stdout",
     "output_type": "stream",
     "text": [
      "Enter a number!123\n",
      "Sum of digits: 6\n"
     ]
    }
   ],
   "source": [
    "'''Write a recursive function to get the sum of digits of a non-negative integer.'''\n",
    "def recDigiSum(num:int, sum=0):\n",
    "    if(num==0):\n",
    "        return sum\n",
    "    else:\n",
    "        return recDigiSum(num//10, sum+num%10)\n",
    "num=int(input(\"Enter a number!\"))\n",
    "if(num<0):\n",
    "    print(\"Number is negative!\")\n",
    "else:\n",
    "    print(\"Sum of digits:\",recDigiSum(num))"
   ]
  },
  {
   "cell_type": "code",
   "execution_count": 55,
   "id": "fe379d4b",
   "metadata": {},
   "outputs": [
    {
     "name": "stdout",
     "output_type": "stream",
     "text": [
      "Enter first number:20\n",
      "Enter second number:10\n",
      "GCD is: 10\n"
     ]
    }
   ],
   "source": [
    "'''Write a recursive function to find the greatest common divisor (gcd) of two integers.'''\n",
    "def gcd(a,b):\n",
    "    if(b==0):\n",
    "        return a\n",
    "    else:\n",
    "        return gcd(b,a%b)\n",
    "a=int(input(\"Enter first number:\"))\n",
    "b=int(input(\"Enter second number:\"))\n",
    "GCD=gcd(a,b)\n",
    "print(\"GCD is:\",GCD)"
   ]
  },
  {
   "cell_type": "code",
   "execution_count": 3,
   "id": "15078c5e",
   "metadata": {},
   "outputs": [
    {
     "name": "stdout",
     "output_type": "stream",
     "text": [
      "Enter file name and location!student.txt\n",
      "Number of lines: 5\n",
      "Number of characters: 155\n",
      "Number of words: 40\n",
      "Number of spaces: 39\n"
     ]
    }
   ],
   "source": [
    "'''Write a program to find number of characters, words, spaces and lines in a file.'''\n",
    "fname=input(\"Enter file name and location!\")\n",
    "numLines, numChars, numWords, numSpaces=0,0,0,0\n",
    "with open(fname, 'r') as f:\n",
    "    for line in f:\n",
    "        numLines+=1\n",
    "        for l in line:\n",
    "            numChars+=1\n",
    "            if l == ' ':\n",
    "                numSpaces+=1\n",
    "    numWords=numSpaces+1\n",
    "print(\"Number of lines:\", numLines)\n",
    "print(\"Number of characters:\", numChars)\n",
    "print(\"Number of words:\", numWords)\n",
    "print(\"Number of spaces:\", numSpaces)\n",
    "f.close()"
   ]
  },
  {
   "cell_type": "code",
   "execution_count": 22,
   "id": "b3efbb40",
   "metadata": {},
   "outputs": [
    {
     "name": "stdout",
     "output_type": "stream",
     "text": [
      "Enter file name and location!student.txt\n",
      "Enter the word to be searched!Jessica\n",
      "Word is in line 4\n"
     ]
    }
   ],
   "source": [
    "'''Write a program to obtain the line number in which a given word is present.'''\n",
    "fname=input(\"Enter file name and location!\")\n",
    "w=input(\"Enter the word to be searched!\")\n",
    "numLine=0\n",
    "with open(fname, 'r') as f:\n",
    "    flag=True\n",
    "    for line in f:\n",
    "        numLine+=1\n",
    "        w_temp=''\n",
    "        for l in line:\n",
    "            if l!=' ':\n",
    "                w_temp+=l\n",
    "            else:\n",
    "                if w_temp==w:\n",
    "                    print(\"Word is in line\",numLine)\n",
    "                    flag=False\n",
    "                    break\n",
    "                w_temp=''\n",
    "        if not flag:\n",
    "            break\n",
    "    if flag:\n",
    "        print(\"Word not found!\")\n",
    "f.close()"
   ]
  },
  {
   "cell_type": "code",
   "execution_count": 26,
   "id": "021761fd",
   "metadata": {},
   "outputs": [
    {
     "name": "stdout",
     "output_type": "stream",
     "text": [
      "Enter .csv file name and location!student_marks.csv\n",
      "Lines in the .csv file:\n",
      "['', 'Gender', 'DOB', 'Maths', 'Physics', 'Chemistry', 'English', 'Biology', 'Economics', 'History', 'Civics']\n",
      "['John', 'M', '05/04/1988', '55', '45', '56', '87', '21', '52', '89', '65']\n",
      "['Suresh', 'M', '4/5/1987', '75', '55', '', '64', '90', '61', '58', '2']\n",
      "['Ramesh', 'M', '25/5/1989', '25', '54', '89', '76', '95', '87', '56', '74']\n",
      "['Jessica', 'F', '12/8/1990', '78', '55', '86', '63', '54', '89', '75', '45']\n",
      "['Jennifer', 'F', '2/9/1989', '58', '96', '78', '46', '96', '77', '83', '53']\n",
      "Enter .txt file name and location!student_marks.txt\n",
      "ï»¿Gender        DOB        Maths        Physics        Chemistry        English        Biology        Economics        History        Civics\n",
      "\n",
      "John        M        05-04-88        55        45        56        87        21        52        89        65\n",
      "\n",
      "Suresh        M        04-05-87        75        55                64        90        61        58        2\n",
      "\n",
      "Ramesh        M        25-05-89        25        54        89        76        95        87        56        74\n",
      "\n",
      "Jessica        F        12-08-90        78        55        86        63        54        89        75        45\n",
      "\n",
      "Jennifer        F        02-09-89        58        96        78        46        96        77        83        53\n"
     ]
    }
   ],
   "source": [
    "'''Write a program to read the given (i)CSV file student_marks.csv, (ii) tab separated file\n",
    "student_marks.txt.'''\n",
    "import csv\n",
    "fname=input(\"Enter .csv file name and location!\")\n",
    "with open(fname, 'r') as f:\n",
    "    head=csv.reader(f)\n",
    "    print(\"Lines in the .csv file:\")\n",
    "    for line in head:\n",
    "        print(line)\n",
    "f.close()\n",
    "fname=input(\"Enter .txt file name and location!\")\n",
    "with open(fname, 'r') as f:\n",
    "    for line in f:\n",
    "        print(line)\n",
    "f.close()"
   ]
  },
  {
   "cell_type": "code",
   "execution_count": 34,
   "id": "2ca673d7",
   "metadata": {},
   "outputs": [
    {
     "name": "stdout",
     "output_type": "stream",
     "text": [
      "Enter name of .txt file which is to be written in!MyFile\n",
      "Enter line to be written. Enter 'END' to stop!Hello.\n",
      "Enter line to be written. Enter 'END' to stop!I am fine.\n",
      "Enter line to be written. Enter 'END' to stop!Thanks for asking.\n",
      "Enter line to be written. Enter 'END' to stop!Take care.\n",
      "Enter line to be written. Enter 'END' to stop!END\n",
      "Thanks for asking.\n",
      "\n",
      "Take care.\n",
      "\n"
     ]
    }
   ],
   "source": [
    "'''Write a program to accept string/sentences from the user till the user enters “END”. Save the data\n",
    "in a text file and then display only those sentences which begin with ‘T’.'''\n",
    "fname=input(\"Enter name of .txt file which is to be written in!\")\n",
    "fname+='.txt'\n",
    "with open(fname, 'w') as f:\n",
    "    while True:\n",
    "        line=input(\"Enter line to be written. Enter 'END' to stop!\")\n",
    "        if line!='END':\n",
    "            line+='\\n'\n",
    "            f.writelines(line)\n",
    "        else:\n",
    "            break\n",
    "f.close()\n",
    "with open(fname, 'r') as f:\n",
    "    for line in f:\n",
    "        if line[0]=='T':\n",
    "            print(line)\n",
    "f.close()\n",
    "#MyFile.txt is supplied within the assignment folder."
   ]
  },
  {
   "cell_type": "code",
   "execution_count": 37,
   "id": "6249e633",
   "metadata": {},
   "outputs": [
    {
     "name": "stdout",
     "output_type": "stream",
     "text": [
      "Enter file name and location!student.txt\n",
      "Students with marks more than 500:\n",
      "Ramesh\n",
      "Jessica\n",
      "Jennifer\n"
     ]
    }
   ],
   "source": [
    "'''The sample file student.txt contains one line for each student. The student’s name is the first thing\n",
    "on each line, followed by some exam scores. The number of scores might be different for each\n",
    "student. Using the text file student.txt write a program that prints out the names of students those\n",
    "have a total score more than 500.'''\n",
    "fname=input(\"Enter file name and location!\")\n",
    "with open(fname, 'r') as f:\n",
    "    print(\"Students with marks more than 500:\")\n",
    "    for line in f:\n",
    "        l=line.split(' ')\n",
    "        marks=0\n",
    "        for item in l:\n",
    "            isInt = True\n",
    "            try:\n",
    "                num=int(item)\n",
    "            except ValueError:\n",
    "                isInt=False\n",
    "            if isInt:\n",
    "                marks+=int(item)\n",
    "        if marks>500:\n",
    "            print(l[0])\n",
    "f.close()"
   ]
  }
 ],
 "metadata": {
  "kernelspec": {
   "display_name": "Python 3 (ipykernel)",
   "language": "python",
   "name": "python3"
  },
  "language_info": {
   "codemirror_mode": {
    "name": "ipython",
    "version": 3
   },
   "file_extension": ".py",
   "mimetype": "text/x-python",
   "name": "python",
   "nbconvert_exporter": "python",
   "pygments_lexer": "ipython3",
   "version": "3.9.13"
  }
 },
 "nbformat": 4,
 "nbformat_minor": 5
}
